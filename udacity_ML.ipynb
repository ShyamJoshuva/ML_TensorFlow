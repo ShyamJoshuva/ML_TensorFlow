{
  "nbformat": 4,
  "nbformat_minor": 0,
  "metadata": {
    "colab": {
      "name": "udacity_ML.ipynb",
      "provenance": []
    },
    "kernelspec": {
      "name": "python3",
      "display_name": "Python 3"
    },
    "language_info": {
      "name": "python"
    }
  },
  "cells": [
    {
      "cell_type": "code",
      "source": [
        "import tensorflow as tf"
      ],
      "metadata": {
        "id": "dJEaD8zPZa8J"
      },
      "execution_count": 4,
      "outputs": []
    },
    {
      "cell_type": "code",
      "source": [
        "import numpy as np \n",
        "import logging\n",
        "logger = tf.get_logger()\n",
        "logger.setLevel(logging.ERROR)"
      ],
      "metadata": {
        "id": "U5vbFZgNcwFR"
      },
      "execution_count": 5,
      "outputs": []
    },
    {
      "cell_type": "code",
      "source": [
        "celsius = np.array([1,2,3,4,5,6], dtype=float)\n",
        "fahrenheit = np.array([33.8, 35.6, 37.4, 39.2, 41, 42.8], dtype=float)\n",
        "\n",
        "for i,j in enumerate(celsius):\n",
        "  print(\"{} celsius is equal to {} fahrenheit\".format(j,fahrenheit[i]))"
      ],
      "metadata": {
        "colab": {
          "base_uri": "https://localhost:8080/"
        },
        "id": "iGqa0zmIxqHU",
        "outputId": "861f7e63-2fc2-4e0d-92a0-7067936cea54"
      },
      "execution_count": 6,
      "outputs": [
        {
          "output_type": "stream",
          "name": "stdout",
          "text": [
            "1.0 celsius is equal to 33.8 fahrenheit\n",
            "2.0 celsius is equal to 35.6 fahrenheit\n",
            "3.0 celsius is equal to 37.4 fahrenheit\n",
            "4.0 celsius is equal to 39.2 fahrenheit\n",
            "5.0 celsius is equal to 41.0 fahrenheit\n",
            "6.0 celsius is equal to 42.8 fahrenheit\n"
          ]
        }
      ]
    },
    {
      "cell_type": "code",
      "source": [
        "l0 = tf.keras.layers.Dense(units = 1,input_shape=[1])\n",
        "model = tf.keras.Sequential([l0])\n",
        "model.compile(loss=\"mean_squared_error\",optimizer=tf.keras.optimizers.Adam(0.1))\n",
        "history = model.fit(celsius,fahrenheit,epochs = 500,verbose = False)\n",
        "print('Finished training model!')"
      ],
      "metadata": {
        "colab": {
          "base_uri": "https://localhost:8080/"
        },
        "id": "ioUFlB76oZMf",
        "outputId": "37276d36-3087-4fd5-acd6-2278020242e2"
      },
      "execution_count": 11,
      "outputs": [
        {
          "output_type": "stream",
          "name": "stdout",
          "text": [
            "Finished training model!\n"
          ]
        }
      ]
    },
    {
      "cell_type": "code",
      "source": [
        "import matplotlib.pyplot as plt\n",
        "plt.plot(history.history['loss'])"
      ],
      "metadata": {
        "colab": {
          "base_uri": "https://localhost:8080/",
          "height": 283
        },
        "id": "cg4s-9Ui1d7H",
        "outputId": "cb3cda32-ba79-439f-ceab-99481ce9d90b"
      },
      "execution_count": 13,
      "outputs": [
        {
          "output_type": "execute_result",
          "data": {
            "text/plain": [
              "[<matplotlib.lines.Line2D at 0x7f7842aeea90>]"
            ]
          },
          "metadata": {},
          "execution_count": 13
        },
        {
          "output_type": "display_data",
          "data": {
            "text/plain": [
              "<Figure size 432x288 with 1 Axes>"
            ],
            "image/png": "[encoded data removed]"
          },
          "metadata": {
            "needs_background": "light"
          }
        }
      ]
    },
    {
      "cell_type": "code",
      "source": [
        "print(model.predict([1]))"
      ],
      "metadata": {
        "colab": {
          "base_uri": "https://localhost:8080/"
        },
        "id": "bLcDulrc2MbG",
        "outputId": "3ae08b5e-d8a1-401f-b517-271c11d5bc8f"
      },
      "execution_count": 16,
      "outputs": [
        {
          "output_type": "stream",
          "name": "stdout",
          "text": [
            "[[23.6726]]\n"
          ]
        }
      ]
    },
    {
      "cell_type": "code",
      "source": [
        "print(\"{}\".format(l0.get_weights()))"
      ],
      "metadata": {
        "colab": {
          "base_uri": "https://localhost:8080/"
        },
        "id": "wA3LFl4I25Aw",
        "outputId": "099d2f4a-fbae-4b9b-9045-934163efb3a7"
      },
      "execution_count": 18,
      "outputs": [
        {
          "output_type": "stream",
          "name": "stdout",
          "text": [
            "[array([[4.973618]], dtype=float32), array([18.698982], dtype=float32)]\n"
          ]
        }
      ]
    }
  ]
}